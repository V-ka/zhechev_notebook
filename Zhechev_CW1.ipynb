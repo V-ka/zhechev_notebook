{
 "metadata": {
  "name": "",
  "signature": "sha256:1029b3ddba53d8038578a19278fd5960f4bcaec1115fa052f036691a29de3991"
 },
 "nbformat": 3,
 "nbformat_minor": 0,
 "worksheets": [
  {
   "cells": [
    {
     "cell_type": "heading",
     "level": 5,
     "metadata": {},
     "source": [
      "\u0417\u0430\u0434\u0430\u043d\u0438\u0435 1."
     ]
    },
    {
     "cell_type": "markdown",
     "metadata": {},
     "source": [
      "$H_i$ - \u0441\u043e\u0431\u044b\u0442\u0438\u0435, \u0447\u0442\u043e \u0444\u0438\u0440\u043c\u0430 \u0443\u0445\u043e\u0434\u0438\u0442 \u043e\u0442 \u043d\u0430\u043b\u043e\u0433\u043e\u0432 \u043f\u043e i-\u043e\u0439 \u0441\u0445\u0435\u043c\u0435.\n",
      "\u0422\u043e\u0433\u0434\u0430 \u0438\u0441\u043a\u043e\u043c\u0430\u044f \u0432\u0435\u0440\u043e\u044f\u0442\u043d\u043e\u0441\u0442\u044c:\n",
      "\n",
      "$$P(H_3|\\overline{H_1 \\cup H_2}) = \\frac{P(H_1\\cap(\\overline{H_1 \\cup H_2}))}{P(\\overline{H_1 \\cup H_2})} =  \\frac{P(H_1)}{P(\\overline{H_1 \\cup H_2})} = \\frac{4/30}{(30-8)/30} = \\frac{2}{11}$$"
     ]
    },
    {
     "cell_type": "heading",
     "level": 5,
     "metadata": {},
     "source": [
      "\u0417\u0430\u0434\u0430\u043d\u0438\u0435 2."
     ]
    },
    {
     "cell_type": "markdown",
     "metadata": {},
     "source": [
      "a) \u041f\u0443\u0441\u0442\u044c \n",
      "$X_{1}, ..., X_{n} \\thicksim U_{0,\\theta}$.\n",
      "\n",
      "\u041e\u0448\u0438\u0431\u043a\u0430 \u043f\u0435\u0440\u0432\u043e\u0433\u043e \u0440\u043e\u0434\u0430:\n",
      "$$P_{H_0}(\\overline X > 3) = 0$$, \u0442\u0430\u043a \u043a\u0430\u043a \u043f\u0440\u0438 $\\theta = 2\\space\\overline X < 2$ \u0441 \u0432\u0435\u0440\u043e\u044f\u0442\u043d\u043e\u0441\u0442\u044c\u044e 1.\n",
      "\n",
      "\u041e\u0448\u0438\u0431\u043a\u0430 \u0432\u0442\u043e\u0440\u043e\u0433\u043e \u0440\u043e\u0434\u0430 (\u043f\u043e \u0423\u0417\u0411\u0427 $\\overline X \\xrightarrow{a.s.} \\mathbb E X$):\n",
      "$$P_{H_1}(\\overline X < 3) \\rightarrow P_{H_1}(\\mathbb E X < 3) = P_{H_1}(\\theta/2 < 3) = P_{H_1}(2 < 3) = 1$$"
     ]
    },
    {
     "cell_type": "markdown",
     "metadata": {},
     "source": [
      "b) \u041e\u0448\u0438\u0431\u043a\u0430 \u043f\u0435\u0440\u0432\u043e\u0433\u043e \u0440\u043e\u0434\u0430: $$P_{H_0}(X_{(n)} > 3) = 0$$, \n",
      "\u0442\u0430\u043a \u043a\u0430\u043a \u043f\u0440\u0438 $\\theta = 2\\space X_{(n)} < 2$ \u0441 \u0432\u0435\u0440\u043e\u044f\u0442\u043d\u043e\u0441\u0442\u044c\u044e 1. \n",
      "\n",
      "\u041e\u0448\u0438\u0431\u043a\u0430 \u0432\u0442\u043e\u0440\u043e\u0433\u043e \u0440\u043e\u0434\u0430: $$P_{H_1}(X_{(n)} < 3) = P_{H_1}^n(X_1 < 3) = (\\frac{3}{4})^n \\rightarrow 0$$"
     ]
    },
    {
     "cell_type": "markdown",
     "metadata": {},
     "source": [
      "c) \u0412\u044b\u043f\u0438\u0448\u0435\u043f \u041a\u0440\u0438\u0442\u0435\u0440\u0438\u0439 \u041d\u0435\u0439\u043c\u0430\u043d\u0430-\u041f\u0438\u0440\u0441\u043e\u043d\u0430:\n",
      "$$P_{H_\\infty}(\\frac{f_{H_0}(X_1,...,X_n)}{f_{H_\\infty}(X_1,...,X_n)} > c) = P_{H_\\infty}(\\frac{(\\theta_0)^{-n}I(X_{(n)} < \\theta_0)}{(\\theta_\\infty)^{-n}I(X_{(n)} < \\theta_\\infty)} > c)$$\n",
      "\n",
      "\u041f\u0440\u0438 $\\theta_0 > \\theta_\\infty$, \u044d\u0442\u0430 \u0432\u0435\u0440\u043e\u044f\u0442\u043d\u043e\u0441\u0442\u044c \u0440\u0430\u0432\u043d\u0430 0. \u041f\u0440\u0438 $\\theta_0 < \\theta_\\infty$ \u043d\u0438\u043a\u0430\u043a \u043d\u0435\u0437\u0430\u0432\u0438\u0441\u0438\u0442 \u043e\u0442 c.\n",
      "\n",
      "\u0427\u0442\u043e\u0431\u044b \u043f\u043e\u043b\u0443\u0447\u0438\u0442\u044c \u043a\u0440\u0438\u0442\u0435\u0440\u0438\u0439 \u0441 \u043e\u0448\u0438\u0431\u043a\u043e\u0439 \u043f\u0435\u0440\u0432\u043e\u0433\u043e \u0440\u043e\u0434\u0430 $\\epsilon$, \u0435\u0433\u043e \u043c\u043e\u0436\u043d\u043e \u0441\u0434\u0435\u043b\u0430\u0442\u044c \u0440\u0430\u043d\u0434\u043e\u043c\u0438\u0437\u0440\u043e\u0432\u0430\u043d\u043d\u044b\u043c. \u0422\u043e \u0435\u0441\u0442\u044c \u0435\u0441\u043b\u0438 $\\theta_0 > \\theta_\\infty$, \u0442\u043e \u043f\u0440\u0438\u043d\u0438\u043c\u0430\u0442\u044c $H_0$ \u0441 \u0432\u0435\u0440\u043e\u044f\u0442\u043d\u043e\u0441\u0442\u044c\u044e $\\epsilon$. \u041d\u0443 \u0430 \u0435\u0441\u043b\u0438, \u043e\u0442\u043e\u0439\u0442\u0438 \u043e\u0442 \u043c\u043e\u0449\u043d\u043e\u0441\u0442\u0438, \u0442\u043e \u043c\u043e\u0436\u043d\u043e \u0432\u044b\u0431\u0440\u0430\u0442\u044c \u043a\u0440\u0438\u0442\u0435\u0440\u0438\u0439 \u0441 \u043e\u0448\u0438\u0431\u043a\u043e\u0439 \u043f\u0435\u0440\u0432\u043e\u0433\u043e \u0440\u043e\u0434\u0430 0, \u0435\u0441\u043b\u0438 \u0438\u0441\u043f\u043e\u043b\u044c\u0437\u043e\u0432\u0430\u0442\u044c \u043a\u0440\u0438\u0442\u0435\u0440\u0438\u0439: \u043f\u0440\u0438 $X_{(n)} < \\theta_\\infty$ \u0432\u044b\u0431\u0438\u0440\u0430\u0442\u044c $H_{\\infty}$."
     ]
    },
    {
     "cell_type": "heading",
     "level": 5,
     "metadata": {},
     "source": [
      "\u0417\u0430\u0434\u0430\u043d\u0438\u0435 3."
     ]
    },
    {
     "cell_type": "markdown",
     "metadata": {},
     "source": [
      "a) $Y_i = \\beta X_i + \\epsilon_i$\n",
      "\u041d\u0430\u0434\u043e \u043f\u043e\u043b\u0443\u0447\u0438\u0442\u044c $\\sum_{i=1}^n(Y_i -\\beta X_i)^2 \\rightarrow min$\n",
      "\n",
      "\u0412\u043e\u0437\u044c\u043c\u0435\u043c \u043f\u0440\u043e\u0438\u0437\u0432\u043e\u0434\u043d\u0443\u044e \u043f\u043e $\\beta$.\n",
      "$$\\sum_{i=1}^n X_i(Y_i -\\beta X_i) = 0$$\n",
      "$$\\sum_{i=1}^n X_i Y_i  = \\sum_{i=1}^n\\beta X_i^2$$\n",
      "$$\\hat{\\beta}  = \\frac{\\overline{XY}}{\\overline{X^2}}$$"
     ]
    },
    {
     "cell_type": "markdown",
     "metadata": {},
     "source": [
      "b) \u0412 \u0441\u0438\u043b\u0443 \u0422\u0435\u043e\u0440\u0435\u043c\u0430 \u0413\u0430\u0443\u0441\u0441\u0430-\u041c\u0430\u0440\u043a\u043e\u0432\u0430 $\\mathbb D \\hat{\\beta} = \\frac{\\sigma^2}{\\sum_{i=1}^{n}X_i^2}$\n",
      "\n",
      "\u041c\u043e\u0436\u043d\u043e \u043f\u043e\u0441\u0447\u0438\u0442\u0430\u0442\u044c \u0431\u043e\u043b\u0435\u0435 \u043f\u043e\u0436\u0440\u043e\u0431\u043d\u043e:\n",
      "$$\\hat{\\beta}  = \\frac{\\overline{XY}}{\\overline{X^2}} = \\frac{\\sum X_i Y_i}{\\sum X_i^2} = \\frac{\\sum X_i (\\beta X_i + \\epsilon_i)}{\\sum X_i^2} = \\beta + \\frac{\\sum X_i \\epsilon_i}{\\sum X_i^2}$$\n",
      "$$\\mathbb D \\hat{\\beta} = \\mathbb D (\\beta + \\frac{\\sum X_i \\epsilon_i}{\\sum X_i^2}) = \\mathbb D \\frac{\\sum X_i \\epsilon_i}{\\sum X_i^2} =  \\frac{\\sum X_i^2 \\mathbb D\\epsilon_i}{(\\sum X_i^2)^2} = \\frac{\\sum X_i^2 \\sigma^2}{(\\sum X_i^2)^2} = \\frac{\\sigma^2}{\\sum_{i=1}^{n}X_i^2}$$"
     ]
    },
    {
     "cell_type": "markdown",
     "metadata": {},
     "source": [
      "c) \u041f\u043e\u043d\u0442\u044f\u043d\u043e, \u0447\u0442\u043e \u0434\u043b\u044f \u0441\u0443\u0449\u0435\u0441\u0442\u0432\u043e\u0432\u0430\u043d\u0438\u044f \u043f\u0440\u0435\u0434\u0435\u043b\u0430 \u043d\u0435\u043e\u0431\u0445\u043e\u0434\u0438\u043c\u044b \u0443\u0441\u043b\u043e\u0432\u0438\u044f \u0441\u0443\u0449\u0435\u0441\u0442\u0432\u043e\u0432\u0430\u043d\u0438\u044f \u0441\u043b\u0435\u0434\u0443\u044e\u0449\u0438\u0445 \u043c\u0430\u0442\u043e\u0436\u0438\u0434\u0430\u043d\u0438\u0439 $\\mathbb E XY$ \u0438 $\\mathbb E X^2$, \u043f\u0440\u0438\u0447\u0435\u043c \u0438\u0437 \u043f\u0440\u0435\u0434\u044b\u0434\u0443\u0449\u0435\u0433\u043e \u043f\u0443\u043d\u043a\u0442\u0430 \u0432\u0438\u0434\u043d\u043e, \u0447\u0442\u043e $\\mathbb E X^2 < \\infty$ \u0432\u043b\u0435\u0447\u0435\u0442 $\\mathbb E XY < \\infty$."
     ]
    },
    {
     "cell_type": "heading",
     "level": 5,
     "metadata": {},
     "source": [
      "\u0417\u0430\u0434\u0430\u043d\u0438\u0435 4."
     ]
    },
    {
     "cell_type": "markdown",
     "metadata": {},
     "source": [
      "\u041f\u0443\u0441\u0442\u044c \n",
      "$X_{1}, ..., X_{n} \\thicksim N_{\\mu,\\sigma^2}$. \u0418 $P(X < \\tau) = 0.95$\n",
      "\n",
      "\u0412\u044b\u043f\u0438\u0448\u0435\u043c \u043e\u0446\u0435\u043d\u043a\u0443 \u043c\u0430\u043a\u0441\u0438\u043c\u0430\u043b\u044c\u043d\u043e\u0433\u043e \u043f\u0440\u0430\u0432\u0434\u043e\u043f\u043e\u0434\u043e\u0431\u0438\u044f \u0434\u043b\u044f $\\mu,\\sigma^2$:\n",
      "\n",
      "$$f(X,\\mu,\\sigma^2) = (\\frac{1}{\\sqrt{2\\pi\\sigma^2}})^n \\exp(-\\sum_{i=1}^n\\frac{(X_i-\\mu)^2}{2\\sigma^2})$$\n",
      "\n",
      "\u041f\u0440\u043e\u043b\u043e\u0433\u0430\u0440\u0438\u0444\u043c\u0438\u0440\u043a\u0435\u043c \u0438 \u0432\u043e\u0437\u044c\u043c\u0435\u043c \u043f\u0440\u043e\u0438\u0437\u0432\u043e\u0434\u043d\u044b\u0435 \u043f\u043e $\\mu,\\sigma^2$ \u0438 \u043f\u043e\u043b\u0443\u0447\u0438\u043c:\n",
      "$$\\frac{1}{\\sigma^2}\\sum_{i=1}^n(X_i-\\mu) = 0 \\Rightarrow \\hat{\\mu} = \\overline X$$\n",
      "$$ -\\frac{n}{2\\sigma^2} +\\frac{1}{2(\\sigma^2)^2} \\sum_{i=1}^n(X_i-\\mu)^2 = 0 \\Rightarrow \\hat{\\sigma^2} = S^2 = \\overline X^2 - (\\overline X)^2$$\n",
      "\u0414\u0430\u043b\u0435\u0435 \u0443\u0432\u0438\u0434\u0438\u043c, \u0447\u0442\u043e:\n",
      "$$P(X < \\tau) = P(\\frac{X - \\mu}{\\sigma} < \\frac{\\tau - \\mu}{\\sigma}) = \u0424_{0,1}(\\frac{\\tau - \\mu}{\\sigma}) = 0.95$$\n",
      "$$\\tau = \\mu + \\sigma \u0424_{0,1}^{-1}(0.95)$$\n",
      "\u0410 \u0437\u043d\u0430\u0447\u0438\u0442 \u043e\u0446\u0435\u043d\u043a\u0430 \u043c\u0430\u043a\u0441\u0438\u043c\u0430\u043b\u044c\u043d\u043e\u0433\u043e \u043f\u0440\u0430\u0432\u0434\u043e\u043f\u043e\u0434\u043e\u0431\u0438\u044f \u0440\u0430\u0432\u043d\u0430:\n",
      "$$\\hat{\\tau} = \\overline X + S \u0424_{0,1}^{-1}(0.95)$$"
     ]
    },
    {
     "cell_type": "markdown",
     "metadata": {},
     "source": [
      "\u0414\u0430\u043b\u0435\u0435 \u043d\u0430\u043c \u043d\u0430\u0434\u043e \u043f\u043e\u0441\u0447\u0438\u0442\u0430\u0442\u044c \u0438\u043d\u0444\u043e\u0440\u043c\u0430\u0446\u0438\u043e\u043d\u043d\u0443\u044e \u043c\u0430\u0442\u0440\u0438\u0446\u0443 \u0424\u0438\u0448\u0435\u0440\u0430: \n",
      "\n",
      "(\u042f \u043e\u043f\u0443\u0441\u043a\u0430\u044e \u043e\u043f\u0438\u0441\u0430\u043d\u0438\u0435 \u0432\u044b\u0447\u0438\u0441\u043b\u0435\u043d\u0438\u0439, \u043e\u043d\u0438 \u0434\u043e\u0432\u043e\u043b\u044c\u043d\u043e \u043b\u0435\u0433\u043a\u043e \u0434\u0435\u043b\u0430\u044e\u0442\u0441\u044f \u0438\u0437 \u043f\u0440\u0435\u0434\u044b\u0434\u0443\u0449\u0438\u0445 \u0444\u043e\u0440\u043c\u0443\u043b)\n",
      "$$I(\\mu,\\sigma^2) = \\begin{pmatrix} \\frac{n}{\\sigma^2} & 0 \\\\ 0 & \\frac{n}{2(\\sigma^2)^2} \\end{pmatrix} $$\n",
      "\n",
      "\u0421\u0447\u0438\u0442\u0430\u0435\u043c \u0433\u0440\u0430\u0434\u0438\u0435\u043d\u0442 $\\nabla g = (1, \\frac{1}{2\\sqrt{\\sigma^2}} \u0424_{0,1}^{-1}(0.95))$\n",
      "$$\\hat{se}(\\hat{\\tau}) = \\sqrt{\\nabla \\hat{g}^T \\hat{I}^{-1} \\nabla \\hat{g}} = \\sqrt{\\frac{\\hat{\\sigma^2}}{n}+\\frac{\\hat{\\sigma^2}}{2n}(\u0424_{0,1}^{-1}(0.95))^2}$$\n",
      "\n",
      "\u041e\u0441\u0442\u0430\u0435\u0442\u0441\u044f \u0432\u044b\u043f\u0438\u0441\u0430\u0442\u044c \u0444\u043e\u0440\u043c\u0443\u043b\u0443 \u0434\u043b\u044f \u0438\u043d\u0435\u0440\u0432\u0430\u043b\u0430:\n",
      "\n",
      "$$(\\hat{\\tau} - z_{\\alpha/2}\\hat{se}(\\hat{\\tau}), \\hat{\\tau} + z_{\\alpha/2}\\hat{se}(\\hat{\\tau}))$$"
     ]
    },
    {
     "cell_type": "code",
     "collapsed": false,
     "input": [],
     "language": "python",
     "metadata": {},
     "outputs": []
    }
   ],
   "metadata": {}
  }
 ]
}