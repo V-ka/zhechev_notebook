{
 "metadata": {
  "name": "",
  "signature": "sha256:a98b9ae4bc201c7423b7bb24cffcd690eacd6b130253768a8aee45966d1277c8"
 },
 "nbformat": 3,
 "nbformat_minor": 0,
 "worksheets": [
  {
   "cells": [
    {
     "cell_type": "code",
     "collapsed": false,
     "input": [
      "import numpy as np\n",
      "import pandas as pd\n",
      "import numpy.random as npr\n",
      "import scipy.stats\n",
      "import matplotlib.pyplot as plt"
     ],
     "language": "python",
     "metadata": {},
     "outputs": [],
     "prompt_number": 4
    },
    {
     "cell_type": "heading",
     "level": 5,
     "metadata": {},
     "source": [
      "\u0417\u0430\u0434\u0430\u043d\u0438\u0435 1."
     ]
    },
    {
     "cell_type": "markdown",
     "metadata": {},
     "source": [
      "a) \u0412\u044b\u043f\u0438\u0448\u0435\u043c \u0444\u0443\u043d\u043a\u0446\u0438\u044e \u043f\u0440\u0430\u0432\u0434\u043e\u043f\u043e\u0434\u043e\u0431\u0438\u044f:\n",
      "$$f(p_1, p_2) = C^{X_1}_{n_1}p_1^{X_1}(1-p_1)^{(n_1-X_1)}C^{X_2}_{n_2}p_2^{X_2}(1-p_2)^{(n_2-X_2)}$$\n",
      "\u041f\u0440\u043e\u043b\u043e\u0433\u043e\u0440\u0438\u0444\u043c\u0438\u0440\u0443\u0435\u043c \u0438 \u043f\u043e\u0441\u0447\u0438\u0442\u0435\u043c, \u0447\u0430\u0441\u0442\u043d\u044b\u0435 \u043f\u0440\u043e\u0438\u0437\u0432\u043e\u0434\u043d\u044b\u0435 \u043f\u043e $p_1$ \u0438 $p_2$:\n",
      "$$ \\frac{\\partial \\log f(p_1, p_2)}{\\partial p_1} = \\frac{X_1}{p_1} - \\frac{n_1-X_1}{1-p_1} = 0$$\n",
      "$$ \\frac{\\partial \\log f(p_1, p_2)}{\\partial p_1} = \\frac{X_2}{p_2} - \\frac{n_2-X_2}{1-p_2} = 0$$\n",
      "\u0422\u043e\u0433\u0434\u0430 $$\\hat{\\psi} = \\hat{p_1} - \\hat{p_2} = \\frac{X_1}{n_1} - \\frac{X_2}{n_2}$$"
     ]
    },
    {
     "cell_type": "markdown",
     "metadata": {},
     "source": [
      "b) \u0427\u0442\u043e\u0431\u044b \u043d\u0430\u0439\u0442\u0438 \u0438\u043d\u0444\u043e\u0440\u043c\u0430\u0446\u0438\u044e \u0424\u0438\u0448\u0435\u0440\u0430 \u043d\u0430\u043c \u043d\u0430\u0434\u043e \u043f\u043e\u0441\u0447\u0438\u0442\u044c \u0432\u0442\u043e\u0440\u044b\u0435 \u0447\u0430\u0441\u0442\u043d\u044b\u0435 \u043f\u0440\u043e\u0438\u0437\u0432\u043e\u0434\u043d\u044b\u0435:\n",
      "$$\\frac{\\partial^2 \\log f(p_1, p_2)}{\\partial p_1^2} = -\\frac{X_1}{p_1^2} - \\frac{n_1-X_1}{(1-p_1)^2}$$\n",
      "$$\\frac{\\partial^2 \\log f(p_1, p_2)}{\\partial p_2^2} = -\\frac{X_2}{p_2^2} - \\frac{n_2-X_2}{(1-p_2)^2}$$\n",
      "$$\\frac{\\partial^2 \\log f(p_1, p_2)}{\\partial p_1\\partial p_2} = \\frac{\\partial^2 \\log f(p_1, p_2)}{\\partial p_2\\partial p_1} = 0$$\n",
      "\u041f\u043e\u0441\u0447\u0438\u0442\u0430\u0435\u043c \u043c\u0430\u0442\u043e\u0436\u0438\u0434\u0430\u043d\u0438\u0435:\n",
      "$$\\mathbb E(\\frac{X_i}{p_i^2} + \\frac{n_i-X_i}{(1-p_i)^2}) = \\frac{n_i}{p_i} + \\frac{n_i}{1-p_i} = \\frac{n_i}{p_i(1-p_i)}$$\n",
      "\n",
      "\u0422\u043e\u0433\u0434\u0430 \u043c\u0430\u0442\u0440\u0438\u0446\u0430 \u0424\u0438\u0448\u0435\u0440\u0430:\n",
      "$$I(p_1,p_2) = \\begin{pmatrix} \\frac{n_1}{p_1(1-p_1)} & 0 \\\\ 0 & \\frac{n_2}{p_2(1-p_2)} \\end{pmatrix} $$"
     ]
    },
    {
     "cell_type": "markdown",
     "metadata": {},
     "source": [
      "c) \u0422\u0430\u043a \u043a\u0430\u043a $\\psi = p_1 - p_2$, \u0442\u043e $\\nabla g = (1, - 1)$, \u0430 \u0437\u043d\u0430\u0447\u0438\u0442:\n",
      "$$\\hat{se}(\\hat{\\psi}) = \\sqrt{\\nabla \\hat{g}^T I^{-1} \\nabla \\hat{g}} = \\sqrt{\\frac{p_1(1-p_1)}{n_1}+\\frac{p_2(1-p_2)}{n_2}}$$"
     ]
    },
    {
     "cell_type": "markdown",
     "metadata": {},
     "source": [
      "d) (i) \u043c\u043d\u043e\u0433\u043e\u043f\u0430\u0440\u0430\u043c\u0435\u0442\u0440\u0438\u0447\u0435\u0441\u043a\u0438\u0439 \u0434\u0435\u043b\u044c\u0442\u0430-\u043c\u0435\u0442\u043e\u0434.  \n",
      "\n",
      "\u0418\u043d\u0442\u0435\u0440\u0432\u0430\u043b \u0440\u0430\u0432\u0435\u043d:\n",
      "$$ (\\hat{\\psi} - z_{\\alpha/2}\\hat{se}(\\hat{\\psi}),\\hat{\\psi} + z_{\\alpha/2}\\hat{se}(\\hat{\\psi})) $$"
     ]
    },
    {
     "cell_type": "code",
     "collapsed": false,
     "input": [
      "n1, n2 = 200, 200\n",
      "X1, X2 = 160, 148\n",
      "p1, p2 = float(X1)/n1, float(X2)/n2\n",
      "psi = p1 - p2\n",
      "se = (p1*(1-p1)/n1 + p2*(1-p2)/n2)**0.5\n",
      "level_size = 0.9\n",
      "quantile = scipy.stats.norm.ppf(1 -(1-level_size)/2)\n",
      "print \"\u0418\u043d\u0442\u0435\u0440\u0432\u0430\u043b \u0440\u0430\u0432\u0435\u043d: ({}, {})\".format(psi - quantile*se, psi + quantile*se)"
     ],
     "language": "python",
     "metadata": {},
     "outputs": [
      {
       "output_type": "stream",
       "stream": "stdout",
       "text": [
        "\u0418\u043d\u0442\u0435\u0440\u0432\u0430\u043b \u0440\u0430\u0432\u0435\u043d: (-0.0090446780434, 0.129044678043)\n"
       ]
      }
     ],
     "prompt_number": 6
    },
    {
     "cell_type": "markdown",
     "metadata": {},
     "source": [
      "(ii)"
     ]
    },
    {
     "cell_type": "code",
     "collapsed": false,
     "input": [
      "def getBootstrapSamples(X, B):\n",
      "    X_np = np.array(X)\n",
      "    size = len(X_np)\n",
      "    result = []\n",
      "    for i in range(B):\n",
      "        mask = npr.randint(0, size, size)\n",
      "        result.append(X_np[mask])\n",
      "    return np.array(result)"
     ],
     "language": "python",
     "metadata": {},
     "outputs": [],
     "prompt_number": 7
    },
    {
     "cell_type": "code",
     "collapsed": false,
     "input": [
      "B = 10000\n",
      "XB1 = np.random.binomial(n1, p1, B)\n",
      "XB2 = np.random.binomial(n2, p2, B)\n",
      "psiB = XB1/float(n1) - XB2/float(n2)\n",
      "seB = (((psiB - psi)**2).mean())**0.5\n",
      "print \"\u0418\u043d\u0442\u0435\u0440\u0432\u0430\u043b \u0440\u0430\u0432\u0435\u043d: ({}, {})\".format(psi - quantile*seB, psi + quantile*seB)"
     ],
     "language": "python",
     "metadata": {},
     "outputs": [
      {
       "output_type": "stream",
       "stream": "stdout",
       "text": [
        "\u0418\u043d\u0442\u0435\u0440\u0432\u0430\u043b \u0440\u0430\u0432\u0435\u043d: (-0.00887734954579, 0.128877349546)\n"
       ]
      }
     ],
     "prompt_number": 22
    },
    {
     "cell_type": "heading",
     "level": 5,
     "metadata": {},
     "source": [
      "\u0417\u0430\u0434\u0430\u043d\u0438\u0435 2."
     ]
    },
    {
     "cell_type": "markdown",
     "metadata": {},
     "source": [
      "a) $$\\psi = P(Y_1 = 1) = P(X_1 > 0) = P(X_1 - \\theta > -\\theta) = 1 - \u0424_{0,1}(-\\theta) = \u0424_{0,1}(\\theta)$$\n",
      "\u0422\u0430\u043a \u043a\u0430\u043a $\\theta$ - \u043c\u0430\u0442\u043e\u0434\u0430\u043d\u0438\u0435 X_1, \u0442\u043e \u043e\u0446\u0435\u043d\u043a\u0430 \u043c\u0430\u043a\u0441\u0438\u043c\u0443\u043c\u0430 \u043f\u0440\u0430\u0432\u0434\u043e\u043f\u043e\u0434\u043e\u0431\u0438\u044f \u0434\u043b\u044f $\\theta$ \u0440\u0430\u0432\u043d\u0430 $\\overline X$.\n",
      "\n",
      "\u041f\u043e\u043d\u044f\u0442\u043d\u043e, \u0447\u0442\u043e \u043c\u0430\u043a\u0441\u0438\u043c\u0443\u043c \u0444\u0443\u043d\u043a\u0446\u0438\u0438 \u043f\u0440\u0430\u0432\u0434\u043e\u043f\u043e\u0434\u043e\u0431\u0438\u044f X \u0431\u0443\u0434\u0435\u0442 \u0434\u043e\u0441\u0442\u0438\u0433\u0430\u0442\u044c\u0441\u044f \u0432 $\\hat{\\psi} = \u0424_{0,1}(\\overline X)$, \u0432 \u0441\u0438\u043b\u0443 \u043c\u043e\u043d\u043e\u0442\u043e\u043d\u043e\u0441\u0442\u0438 $\u0424_{0,1}$. $\\hat{\\psi}$ - \u043e\u0446\u0435\u043d\u043a\u0430 \u043c\u0430\u043a\u0441\u0438\u043c\u0430\u043b\u044c\u043d\u043e\u0433\u043e \u043f\u0440\u0430\u0432\u0434\u043e\u043f\u043e\u0434\u043e\u0431\u0438\u044f."
     ]
    },
    {
     "cell_type": "markdown",
     "metadata": {},
     "source": [
      "b) $\\overline X$ - \u0430\u0441\u0438\u043c\u043f\u0442\u043e\u0442\u0438\u0447\u0435\u0441\u0438 \u043d\u043e\u0440\u043c\u0430\u043b\u044c\u043d\u0430\u044f \u043e\u0446\u0435\u043d\u043a\u0430 \u0441 $\\sigma^2 = 1$, \u0437\u043d\u0430\u0447\u0438\u0442 $\\hat{\\psi} = \u0424_{0,1}(\\overline X)$, \u0442\u043e\u0436\u0435 \u0430\u0441\u0438\u043c\u043f\u0442\u043e\u0442\u0438\u0447\u0435\u0441\u043a\u0438 \u043d\u043e\u0440\u043c\u0430\u043b\u044c\u043d\u0430\u044f \u043e\u0446\u0435\u043d\u043a\u0430 \u0441 \u043a\u043e\u044d\u0444\u0444\u0438\u0446\u0438\u0435\u043d\u0442\u043e\u043c $ (\u0424_{0,1}^{'}(\\theta))^2\\sigma^2$.\n",
      "\n",
      "$\\tilde{\\sigma^2}(\\theta) = (\u0424_{0,1}^{'}(\\theta))^2\\sigma^2 = \\frac{e^{-\\theta^2}}{2\\pi}$\n",
      "\u0422\u043e\u0433\u0434\u0430 \u0430\u0441\u0438\u043c\u043f\u0442\u043e\u0442\u0438\u0447\u0435\u0441\u043a\u0438\u0439 \u0434\u043e\u0432\u0435\u0440\u0438\u0442\u0435\u043b\u044c\u043d\u044b\u0439 \u0438\u0442\u0435\u0440\u0432\u0430\u043b \u0443\u0440\u043e\u0432\u043d\u044f 0.95 \u0431\u0443\u0434\u0435\u0442:\n",
      "$$(\\hat{\\psi} - \\tau_{0.975}\\sqrt{\\tilde{\\sigma^2}(\\overline X)/n}, \\hat{\\psi} + \\tau_{0.975}\\sqrt{\\tilde{\\sigma^2}(\\overline X)/n})$$"
     ]
    },
    {
     "cell_type": "markdown",
     "metadata": {},
     "source": [
      "c) $\\tilde{\\psi} = \\frac{1}{n}\\sum_{i=1}^{n}Y_i$, \u043e\u0447\u0435\u0432\u0438\u0434\u043d\u043e, \u0447\u0442\u043e \u043f\u043e \u0423\u0417\u0411\u0427 $\\tilde{\\psi}\\xrightarrow{a.s.} \\mathbb E Y_1 = P(Y_1 = 1) = \\psi. $\n",
      "\u0410 \u0437\u043d\u0430\u0447\u0438\u0442 $\\tilde{\\psi}$ \u044f\u0432\u043b\u044f\u0435\u0442\u0441\u044f \u0441\u0438\u043b\u044c\u043d\u043e \u0441\u043e\u0441\u0442\u043e\u044f\u0442\u0435\u043b\u044c\u043d\u043e\u0439 \u043e\u0446\u0435\u043d\u043a\u043e\u0439 \u0434\u043b\u044f $\\psi$."
     ]
    },
    {
     "cell_type": "markdown",
     "metadata": {},
     "source": [
      "d) \u0412 \u043f\u0443\u043d\u043a\u0442\u0435 b) \u0443\u0436\u0435 \u043d\u0430\u0445\u043e\u0434\u0438\u043b\u0438, \u0447\u0442\u043e $\\hat{se}(\\hat{\\psi}) = \\sqrt{\\frac{e^{-\\theta^2}}{2n\\pi}}$, \u0442\u0430\u043a\u0436\u0435 \u043f\u043e\u043d\u044f\u0442\u043d\u043e, \u0447\u0442\u043e $\\hat{se}(\\tilde{\\psi}) = \\sqrt{\u0424_{0,1}(\\theta)(1 - \u0424_{0,1}(\\theta))/n}$, \u0442\u0430\u043a \u043a\u0430\u043a $Y_i$, \u0431\u0435\u0440\u043d\u0443\u043b\u043b\u0438\u0432\u0441\u043a\u0430\u044f \u0432\u0435\u043b\u0438\u0447\u0438\u043d\u0430."
     ]
    },
    {
     "cell_type": "markdown",
     "metadata": {},
     "source": [
      "e) \u0415\u0441\u043b\u0438 \u0434\u0430\u043d\u043d\u044b\u0435 $X$ \u0438\u0437 \u0434\u0440\u0443\u0433\u043e\u0432\u043e \u0440\u0430\u0441\u043f\u0440\u0435\u0434\u0435\u043b\u0435\u043d\u0438\u044f, \u0442\u043e \u043c\u044b \u043d\u0435 \u043c\u043e\u0436\u0435\u043c \u043d\u0430\u0439\u0442\u0438 \u043e\u0446\u0435\u043d\u043a\u0443 \u043c\u0430\u043a\u0441\u0438\u043c\u0430\u043b\u044c\u043d\u043e\u0433\u043e \u043f\u0440\u0430\u0432\u0434\u043e\u043f\u043e\u0434\u043e\u0431\u0438\u044f \u0431\u0435\u0437 \u043a\u043e\u043d\u043a\u0440\u0435\u0442\u0438\u043a\u0438. \u0415\u0441\u043b\u0438 \u0436\u0435 \u0432\u0437\u044f\u0442\u044c \u0432 \u043a\u0430\u0447\u0435\u0441\u0442\u0432\u0435 \u043e\u0446\u0435\u043d\u043a\u0438  $\\hat{\\psi} = \u0424_{0,1}(\\overline X)$, \u0442\u043e \u043f\u043e \u0423\u0417\u0411\u0427 \u0438 \u0441\u0432\u043e\u0439\u0441\u0432\u0443 \u043f\u043e\u0447\u0442\u0438 \u043d\u0430\u0432\u0435\u0440\u043d\u043e\u0439 \u0441\u0445\u043e\u0434\u0438\u043c\u043e\u0441\u0442\u0438 \u043f\u043e\u043b\u0443\u0447\u0430\u0435\u043c, \u0447\u0442\u043e $\\hat{\\psi} = \u0424_{0,1}(\\overline X) \\xrightarrow{a.s.} \u0424_{0,1}(\\mathbb E X_1) \\neq P (X_1 > 0)$ \u0432 \u043e\u0431\u0449\u0435\u043c \u0441\u043b\u0443\u0447\u0435."
     ]
    },
    {
     "cell_type": "heading",
     "level": 5,
     "metadata": {},
     "source": [
      "\u0417\u0430\u0434\u0430\u043d\u0438\u0435 3."
     ]
    },
    {
     "cell_type": "markdown",
     "metadata": {},
     "source": [
      "a) \u041f\u0443\u0441\u0442\u044c $X_{1}, ..., X_{n} \\thicksim N(\\mu,1),\\space\\theta = e^{\\mu}, \\space\\hat{\\theta}=e^{\\overline{X}}$."
     ]
    },
    {
     "cell_type": "code",
     "collapsed": false,
     "input": [
      "n = 100\n",
      "mu = 5\n",
      "B = 5000\n",
      "level_size = 0.95\n",
      "quantile = scipy.stats.norm.ppf(1 -(1-level_size)/2)\n",
      "X = np.random.normal(mu, 1, n)\n",
      "theta = exp(X.mean())\n",
      "se_delta = (exp(2*X.mean())/n)**0.5\n",
      "#se_not_paramB = ((np.exp(getBootstrapSamples(X, B).mean(axis=1)) - theta)**2).mean()**0.5\n",
      "thetas_not_paramB = np.exp(getBootstrapSamples(X, B).mean(axis=1))\n",
      "se_not_paramB = thetas_not_paramB.std()\n",
      "thetas_paramB = np.array([exp(np.random.normal(X.mean(), 1, n).mean()) for i in range(B)])\n",
      "se_paramB = ((thetas_paramB- theta)**2).mean()**0.5\n",
      "def PrintInterval(se, text):\n",
      "    print text + \": ({}, {})\".format(theta - quantile*se, theta + quantile*se)\n",
      "PrintInterval(se_delta, \"\u0414\u0435\u043b\u044c\u0442\u0430 \u043c\u0435\u0442\u043e\u0434\")\n",
      "PrintInterval(se_not_paramB, \"\u041d\u0435\u043f\u0430\u0440\u0430\u043c\u0435\u0442\u0440\u0438\u0447\u0435\u0441\u043a\u0438\u0439 \u0431\u0443\u0442\u0441\u0440\u0435\u043f\")\n",
      "PrintInterval(se_paramB, \"\u041f\u0430\u0440\u0430\u043c\u0435\u0442\u0440\u0438\u0447\u0435\u043a\u0438\u0439 \u0431\u0443\u0442\u0441\u0440\u0435\u043f\")\n",
      "#print se_delta, se_not_paramB, se_paramB"
     ],
     "language": "python",
     "metadata": {},
     "outputs": [
      {
       "output_type": "stream",
       "stream": "stdout",
       "text": [
        "\u0414\u0435\u043b\u044c\u0442\u0430 \u043c\u0435\u0442\u043e\u0434: (120.138455441, 178.712085054)\n",
        "\u041d\u0435\u043f\u0430\u0440\u0430\u043c\u0435\u0442\u0440\u0438\u0447\u0435\u0441\u043a\u0438\u0439 \u0431\u0443\u0442\u0441\u0440\u0435\u043f: (122.4294664, 176.421074095)\n",
        "\u041f\u0430\u0440\u0430\u043c\u0435\u0442\u0440\u0438\u0447\u0435\u043a\u0438\u0439 \u0431\u0443\u0442\u0441\u0440\u0435\u043f: (120.149021911, 178.701518584)\n"
       ]
      }
     ],
     "prompt_number": 115
    },
    {
     "cell_type": "markdown",
     "metadata": {},
     "source": [
      "b) "
     ]
    },
    {
     "cell_type": "code",
     "collapsed": false,
     "input": [
      "y,binEdges=np.histogram([np.exp(np.random.normal(mu, 1, n).mean()) for i in range(B)], bins=np.arange(100, 260, 5))\n",
      "bincenters = 0.5*(binEdges[1:]+binEdges[:-1])\n",
      "plt.hist(thetas_not_paramB, bins=np.arange(100, 260, 5))\n",
      "plt.plot(bincenters, y, linewidth=2, color='r')\n",
      "plt.show()\n",
      "plt.hist(thetas_paramB, bins=np.arange(100, 260, 5))\n",
      "plt.plot(bincenters, y, linewidth=2, color='r')\n",
      "plt.show()\n",
      "plt.hist(np.random.normal(theta, se_delta, B), bins=np.arange(100, 260, 5))\n",
      "plt.plot(bincenters, y, linewidth=2, color='r')\n",
      "plt.show()"
     ],
     "language": "python",
     "metadata": {},
     "outputs": [
      {
       "metadata": {},
       "output_type": "display_data",
       "png": "[encoded data removed]",
       "text": [
        "<matplotlib.figure.Figure at 0xacf90b0>"
       ]
      },
      {
       "metadata": {},
       "output_type": "display_data",
       "png": "[encoded data removed]",
       "text": [
        "<matplotlib.figure.Figure at 0xac93910>"
       ]
      },
      {
       "metadata": {},
       "output_type": "display_data",
       "png": "[encoded data removed]",
       "text": [
        "<matplotlib.figure.Figure at 0xad06cf0>"
       ]
      }
     ],
     "prompt_number": 116
    },
    {
     "cell_type": "markdown",
     "metadata": {},
     "source": [
      "\u041b\u0443\u0447\u0448\u0435 \u0432\u0441\u0435\u0433\u043e \u0432\u044b\u0433\u043b\u044f\u0434\u0438\u0442 \u043f\u043e\u0441\u043b\u0435\u0434\u043d\u0438\u0439 \u0433\u0440\u0430\u0444\u0438\u043a, \u043d\u0430 \u043a\u043e\u0442\u043e\u0440\u043e\u043c \u0441\u0440\u0430\u0432\u043d\u0435\u043d\u0438\u0435 \u0434\u0435\u043b\u044c\u0442\u0430-\u043c\u0435\u0442\u043e\u0434\u0430 \u0438 \u043c\u0435\u0442\u043e\u0434\u0430 \u041c\u043e\u043d\u0442\u0435-\u041a\u0430\u0440\u043b\u043e."
     ]
    },
    {
     "cell_type": "heading",
     "level": 5,
     "metadata": {},
     "source": [
      "\u0417\u0430\u0434\u0430\u043d\u0438\u0435 4."
     ]
    },
    {
     "cell_type": "markdown",
     "metadata": {},
     "source": [
      "\u0420\u0430\u0441\u0441\u043c\u043e\u0442\u0440\u0438\u043c $\\delta = p_1 - p_2$.\n",
      "\u0421\u043e\u0433\u043b\u0430\u0441\u043d\u043e \u043a\u0440\u0438\u0442\u0435\u0440\u0438\u044e \u0412\u0430\u043b\u044c\u0434\u0430:\n",
      "$$W = \\frac{\\hat{\\delta}}{\\hat{se}} = \\frac{\\hat{p_1} - \\hat{p_2}}{\\sqrt{\\frac{\\hat{p_1}(1-\\hat{p_1})}{n} + \\frac{\\hat{p_2}(1-\\hat{p_2})}{m}}}$$\n",
      "\u0422\u043e\u0433\u0434\u0430 \u043d\u0430\u0448 \u043a\u0440\u0438\u0442\u0435\u0440\u0438\u0439 \u0431\u0443\u0434\u0435\u0442 \u0432\u044b\u0433\u043b\u044f\u0434\u0435\u0442\u044c: ($p_1$ \u0434\u043b\u044f \u0442\u0435\u0441\u0442\u0438\u0440\u0443\u0435\u043c\u043e\u0433\u043e, $p_2$ \u0434\u043b\u044f \u043f\u043b\u0430\u0446\u0435\u0431\u043e; \u043c\u0435\u043d\u044c\u0448\u0435 \u043e\u0441\u043b\u043e\u0436\u043d\u0435\u043d\u0438\u0439, \u0437\u043d\u0430\u0447\u0438\u0442 \u043b\u0443\u0447\u0448\u0435)\n",
      "$$W < z_{\\alpha}$$"
     ]
    },
    {
     "cell_type": "code",
     "collapsed": false,
     "input": [
      "quantile = scipy.stats.norm.ppf(0.95)\n",
      "def calcW(x1, n, x2=45, m=80):\n",
      "    p1, p2 = float(x1)/n, float(x2)/m\n",
      "    W = (p1 - p2)/sqrt((p1*(1-p1)/n) + (p2*(1-p2)/m))\n",
      "    return W"
     ],
     "language": "python",
     "metadata": {},
     "outputs": [],
     "prompt_number": 9
    },
    {
     "cell_type": "code",
     "collapsed": false,
     "input": [
      "def Criterion(x1, n, text):\n",
      "    W = calcW(x1, n)\n",
      "    print \"\u043f\u0440\u0438\u043d\u0438\u043c\u0430\u0435\u0442\u0441\u044f \u043b\u0438 \u0433\u0438\u043f\u043e\u0442\u0435\u0437\u0430 \u0434\u043b\u044f {}: {}, \u0432\u0435\u0440\u043e\u044f\u0442\u043d\u043e\u0441\u0442\u044c \u0443\u0441\u043f\u0435\u0445\u0430 {}\".format(text, W < quantile, 1 - scipy.stats.norm.cdf(W))"
     ],
     "language": "python",
     "metadata": {},
     "outputs": [],
     "prompt_number": 24
    },
    {
     "cell_type": "code",
     "collapsed": false,
     "input": [
      "Criterion(26, 75, \"Chlorpromazine\")\n",
      "Criterion(52, 85, \"Dimenhydrinate\")\n",
      "Criterion(35, 67, \"Pentobarbital (100 mg)\")\n",
      "Criterion(37, 85, \"Pentobarbital (150 mg)\")"
     ],
     "language": "python",
     "metadata": {},
     "outputs": [
      {
       "output_type": "stream",
       "stream": "stdout",
       "text": [
        "\u043f\u0440\u0438\u043d\u0438\u043c\u0430\u0435\u0442\u0441\u044f \u043b\u0438 \u0433\u0438\u043f\u043e\u0442\u0435\u0437\u0430 \u0434\u043b\u044f Chlorpromazine: True, \u0432\u0435\u0440\u043e\u044f\u0442\u043d\u043e\u0441\u0442\u044c \u0443\u0441\u043f\u0435\u0445\u0430 0.997148304222\n",
        "\u043f\u0440\u0438\u043d\u0438\u043c\u0430\u0435\u0442\u0441\u044f \u043b\u0438 \u0433\u0438\u043f\u043e\u0442\u0435\u0437\u0430 \u0434\u043b\u044f Dimenhydrinate: True, \u0432\u0435\u0440\u043e\u044f\u0442\u043d\u043e\u0441\u0442\u044c \u0443\u0441\u043f\u0435\u0445\u0430 0.260116182711\n",
        "\u043f\u0440\u0438\u043d\u0438\u043c\u0430\u0435\u0442\u0441\u044f \u043b\u0438 \u0433\u0438\u043f\u043e\u0442\u0435\u0437\u0430 \u0434\u043b\u044f Pentobarbital (100 mg): True, \u0432\u0435\u0440\u043e\u044f\u0442\u043d\u043e\u0441\u0442\u044c \u0443\u0441\u043f\u0435\u0445\u0430 0.686667952634\n",
        "\u043f\u0440\u0438\u043d\u0438\u043c\u0430\u0435\u0442\u0441\u044f \u043b\u0438 \u0433\u0438\u043f\u043e\u0442\u0435\u0437\u0430 \u0434\u043b\u044f Pentobarbital (150 mg): True, \u0432\u0435\u0440\u043e\u044f\u0442\u043d\u043e\u0441\u0442\u044c \u0443\u0441\u043f\u0435\u0445\u0430 0.950180383291\n"
       ]
      }
     ],
     "prompt_number": 31
    },
    {
     "cell_type": "heading",
     "level": 5,
     "metadata": {},
     "source": [
      "\u0417\u0430\u0434\u0430\u043d\u0438\u0435 5."
     ]
    },
    {
     "cell_type": "markdown",
     "metadata": {},
     "source": [
      "a) \u0417\u0430\u043f\u0438\u0448\u0435\u043c \u0441\u0442\u0430\u0442\u0438\u0441\u0442\u0438\u043a\u0443:\n",
      "$$W = \\frac{\\hat{\\delta}}{\\hat{se}} = \\frac{\\hat{\\lambda} - \\lambda_0}{\\sqrt{\\frac{\\hat{\\lambda}}{n}}}$$\n",
      "\u041a\u0440\u0438\u0442\u0435\u0440\u0438\u0439 \u0412\u0430\u043b\u044c\u0434\u0430: \u0433\u0438\u043f\u043e\u0442\u0438\u0437\u0430 $H_0$ \u043f\u0440\u0438\u043d\u0438\u043c\u0430\u0435\u0442\u0441\u044f \u0435\u0441\u043b\u0438\n",
      "$|W| < z_{\\alpha/2}$."
     ]
    },
    {
     "cell_type": "markdown",
     "metadata": {},
     "source": [
      "b) "
     ]
    },
    {
     "cell_type": "code",
     "collapsed": false,
     "input": [
      "lam = 1\n",
      "n = 20\n",
      "alpha = 0.05\n",
      "B = 10000\n",
      "quantile = scipy.stats.norm.ppf(1 - alpha/2)\n",
      "def IsH0():\n",
      "    X = np.random.poisson(lam, n)\n",
      "    W = (X.mean() - lam)/(X.mean()/n)**0.5\n",
      "    return abs(W) < quantile \n",
      "res = np.array([IsH0() for i in range(B)])\n",
      "print \"\u0414\u043e\u043b\u044f \u043e\u0448\u0438\u0431\u043e\u043a: {}\".format(float(B - res.sum())/B)"
     ],
     "language": "python",
     "metadata": {},
     "outputs": [
      {
       "output_type": "stream",
       "stream": "stdout",
       "text": [
        "\u0414\u043e\u043b\u044f \u043e\u0448\u0438\u0431\u043e\u043a: 0.0518\n"
       ]
      }
     ],
     "prompt_number": 19
    },
    {
     "cell_type": "heading",
     "level": 5,
     "metadata": {},
     "source": [
      "\u0417\u0430\u0434\u0430\u043d\u0438\u0435 6."
     ]
    },
    {
     "cell_type": "markdown",
     "metadata": {},
     "source": [
      "\u0417\u0430\u043f\u0438\u0448\u0435\u043c \u0443\u0441\u043b\u043e\u0432\u0438\u0435 \u0442\u0435\u0441\u0442\u0430 \u043d\u0430 \u043e\u0441\u043d\u043e\u0432\u0435 \u043e\u0442\u043d\u043e\u0448\u0435\u043d\u0438\u044f \u043f\u0440\u0430\u0432\u0434\u043e\u043f\u043e\u0434\u043e\u0431\u0438\u044f:\n",
      "\n",
      "$$P_{H_0}(\\frac{f_1(X_1,...,X_n)}{f_0(X_1,...,X_n)} > c) = \\epsilon = P_{H_0}\\bigg(\\frac{\\frac{1}{(2\\pi\\sigma_1^2)^{n/2}} exp(-\\frac{\\sum_{i=1}^{n}(X_i - \\mu)^2}{2\\sigma_1^2})}{\\frac{1}{(2\\pi\\sigma_1^2)^{n/2}} exp(-\\frac{\\sum_{i=1}^{n}(X_i - \\mu)^2}{2\\sigma_1^2})} > c\\bigg) = $$\n",
      "\u041b\u043e\u0433\u0430\u0440\u0438\u0444\u043c\u0438\u0440\u0443\u0435\u043c, \u0434\u0430\u043b\u0435\u0435 \u0432\u0441\u0435 \u043b\u0438\u0448\u043d\u0435\u0435 \u044f \u0431\u0443\u0434\u0443 \u0437\u0430\u043f\u0438\u0441\u044b\u0432\u0430\u0442\u044c \u0432 \u043a\u043e\u043d\u0441\u0442\u0430\u043d\u0442\u0443 \u0438 \u043f\u0438\u0441\u0430\u0442\u044c \u0432\u0441\u0435\u0433\u0434\u0430 c.\n",
      "$$=P_{H_0}\\bigg(-\\frac{n}{2}ln2\\pi\\sigma_1^2 -\\frac{\\sum_{i=1}^{n}(X_i - \\mu)^2}{2\\sigma_1^2} + \\frac{n}{2}ln2\\pi\\sigma_0^2 + \\frac{\\sum_{i=1}^{n}(X_i - \\mu)^2}{2\\sigma_0^2}> c\\bigg) =  $$\n",
      "$$=P_{H_0}\\bigg((\\sigma^2_1 - \\sigma^2_0) \\frac{\\sum_{i=1}^{n}(X_i - \\mu)^2}{\\sigma_0^2} > c\\bigg) = \\epsilon$$\n",
      "\n",
      "\u0417\u0430\u043c\u0435\u0442\u0438\u043c, \u0447\u0442\u043e \u0432 \u0437\u0430\u0432\u0438\u0441\u0438\u043c\u043e\u0441\u0442\u0438 \u043e\u0442 \u0437\u043d\u0430\u043a\u0430 $(\\sigma^2_1 - \\sigma^2_0)$ \u0443 \u043d\u0430\u0441 \u043c\u043e\u0436\u0435\u0442 \u043c\u0435\u043d\u044f\u0442\u044c\u0441\u044f \u0437\u043d\u0430\u043a \u0431\u043e\u043b\u044c\u0448\u0435/\u043c\u0435\u043d\u044c\u0448\u0435. \u041f\u0440\u0438\u0447\u0435\u043c \u0435\u0441\u043b\u0438 $\\sigma^2_1 > \\sigma^2_0 $, \u043c\u044b \u043e\u0442\u0432\u0435\u0440\u0433\u0430\u0435\u043c $H_0$ \u0435\u0441\u043b\u0438 T > c, \u0438 \u043d\u0430\u043e\u0431\u0440\u043e\u0442. \u0422\u043e\u0433\u0434\u0430 \u043d\u0430\u0448\u0435 \u0443\u0441\u043b\u043e\u0432\u0438\u0435 \u043c\u043e\u0436\u043d\u043e \u043f\u0435\u0440\u0435\u043f\u0438\u0441\u0430\u0442\u044c \u043a\u0430\u043a:\n",
      "$$P_{H_0}\\bigg(c_1 < \\frac{\\sum_{i=1}^{n}(X_i - \\mu)^2}{\\sigma_0^2} < c_2\\bigg) = 1 - \\epsilon$$\n",
      "$\\frac{\\sum_{i=1}^{n}(X_i - \\mu)^2}{\\sigma_0^2}$ \u043d\u0438\u0447\u0442\u043e \u0438\u043d\u043e\u0435 \u043a\u0430\u043a \u0440\u0430\u0441\u043f\u0440\u0435\u0434\u0435\u043b\u0435\u043d\u0438\u0435 $\\chi^2_n$ c n \u0441\u0442\u0435\u043f\u0435\u043d\u044f\u043c\u0438 \u0441\u0432\u043e\u0431\u043e\u0434\u044b. \n",
      "\u0422\u043e\u0433\u0434\u0430 \u043a\u0440\u0438\u0442\u0435\u0440\u0438\u0439 \u043f\u0440\u0438\u043d\u0438\u043c\u0430\u0435\u0442 \u043e\u0441\u043d\u043e\u0432\u043d\u0443\u044e \u0433\u0438\u043f\u043e\u0442\u0435\u0437\u0443 \u0435\u0441\u043b\u0438 $$\\zeta_{\\alpha/2} <\\frac{\\sum_{i=1}^{n}(X_i - \\mu)^2}{\\sigma_0^2} < \\zeta_{1 - \\alpha/2},$$\n",
      "\u0433\u0434\u0435 $\\zeta$ - \u043a\u0432\u0430\u043d\u0442\u0438\u043b\u0438 $\\chi^2_n$.\n",
      "\n",
      "\u0422\u0435\u0441\u0442 \u0412\u0430\u043b\u044c\u0434\u0430:\n",
      "$$|W|<z_{\\alpha/2},$$\n",
      "\u0433\u0434\u0435, \u043d\u0430\u043f\u0440\u0438\u043c\u0435\u0440, $W = \\frac{S^2 -\\sigma^2_0}{\\sqrt{\\frac{\\overline{(X - \\overline{X})^4} - S^4}{n}}} $"
     ]
    },
    {
     "cell_type": "heading",
     "level": 5,
     "metadata": {},
     "source": [
      "\u0417\u0430\u0434\u0430\u043d\u0438\u0435 7."
     ]
    },
    {
     "cell_type": "markdown",
     "metadata": {},
     "source": [
      "$$W = \\frac{\\hat{\\theta} - \\theta_0}{\\hat{se}}$$\n",
      "$$\\lambda = (\\sqrt{n}(\\hat{\\theta} - \\theta_0))^2(-\\frac{1}{n}l^{''}(\\hat{\\theta}))$$\n",
      "\u0422\u043e\u0433\u0434\u0430 \n",
      "$$\\frac{W^2}{\\lambda} = \\frac{(\\hat{\\theta} - \\theta_0)^2}{\\hat{se}^2(\\sqrt{n}(\\hat{\\theta} - \\theta_0))^2(-\\frac{1}{n}l^{''}(\\hat{\\theta}))} = \\frac{1}{\\hat{se}^2l^{''}(\\hat{\\theta})}$$\n",
      "$$n\\hat{se}^2  \\xrightarrow{P} \\frac{1}{I (\\theta)},$$\n",
      "\u0432 \u0441\u0438\u043b\u0443 \u043e\u043f\u0440\u0435\u0434\u0435\u043b\u0435\u043d\u0438\u044f $\\sqrt{n}(\\hat{\\theta} - \\theta_0) \\Rightarrow N_{0,I(\\theta)}$\n",
      "$$l^{''}(\\hat{\\theta}) \\xrightarrow{a.s} \\mathbb E_{\\theta}l^{''}(\\theta) = nI(\\theta) $$\n",
      "\u041e\u0441\u0442\u0430\u0435\u0442\u0441\u044f, \u0442\u043e\u043b\u044c\u043a\u043e \u043f\u043e\u0434\u0441\u0442\u0430\u0432\u0438\u0442\u044c \u0438 \u043f\u043e\u043b\u0443\u0447\u0438\u0442\u044c 1.\n",
      "\n",
      "\u041f\u0440\u0430\u043a\u0442\u0438\u0447\u0435\u0441\u043a\u0438 \u0440\u0435\u0448\u0435\u043d\u0438\u0435 \u044d\u0442\u043e\u0439 \u0437\u0430\u0434\u0430\u0447\u0438 \u0435\u0441\u0442\u044c \u0432 \u0441\u043b\u0430\u0439\u0434\u0430\u0445 \u043a \u043b\u0435\u043a\u0446\u0438\u0438 6 \u0441\u0442\u0440\u0430\u043d\u0438\u0446\u044b 25 - 28."
     ]
    },
    {
     "cell_type": "code",
     "collapsed": false,
     "input": [],
     "language": "python",
     "metadata": {},
     "outputs": []
    }
   ],
   "metadata": {}
  }
 ]
}